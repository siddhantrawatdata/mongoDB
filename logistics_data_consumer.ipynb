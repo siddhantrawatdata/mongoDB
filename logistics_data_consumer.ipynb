{
 "cells": [
  {
   "cell_type": "markdown",
   "id": "ecda17ce-7604-4c3f-8a0b-20835f995893",
   "metadata": {},
   "source": [
    "#### This script will pull the serialized data from the topic , de-serialize it and push it to a file after converting it to Json"
   ]
  },
  {
   "cell_type": "markdown",
   "id": "d3350069-e36a-447f-8b22-bef7da506dc6",
   "metadata": {},
   "source": [
    "###### Import the libraries"
   ]
  },
  {
   "cell_type": "code",
   "execution_count": 1,
   "id": "c1a17c78-3645-445d-8351-8989ff6f34f7",
   "metadata": {},
   "outputs": [],
   "source": [
    "import pandas as pd\n",
    "import datetime as dt\n",
    "from confluent_kafka import DeserializingConsumer\n",
    "from confluent_kafka.schema_registry import SchemaRegistryClient\n",
    "from confluent_kafka.schema_registry.avro import AvroDeserializer\n",
    "from confluent_kafka.serialization import StringDeserializer\n",
    "from pymongo import MongoClient"
   ]
  },
  {
   "cell_type": "markdown",
   "id": "e4a40c66-d1c8-44a9-b30d-9a6dc868fcaa",
   "metadata": {},
   "source": [
    "##### call the main function and create functions to establish connection to consumer and download data"
   ]
  },
  {
   "cell_type": "code",
   "execution_count": 2,
   "id": "5a9c520f-efcf-4c24-b794-761f5a013eae",
   "metadata": {},
   "outputs": [],
   "source": [
    "def main():\n",
    "    connect_kafka_consumer()"
   ]
  },
  {
   "cell_type": "markdown",
   "id": "f6b1b8a9-af7b-4ca2-b88b-e9c74e159852",
   "metadata": {},
   "source": [
    "##### Function to connect to kafka consumer"
   ]
  },
  {
   "cell_type": "code",
   "execution_count": 3,
   "id": "aa6db4ef-1f97-4a20-8440-914b7f9f7e44",
   "metadata": {},
   "outputs": [],
   "source": [
    "def connect_kafka_consumer():\n",
    "    kafka_config={\n",
    "        'bootstrap.servers':'xxxx',\n",
    "        'sasl.mechanisms':'PLAIN',\n",
    "        'security.protocol':'SASL_SSL',\n",
    "        'sasl.username':'xxxx',\n",
    "        'sasl.password':'xxxx',\n",
    "        'auto.offset.reset':'earliest'\n",
    "    }\n",
    "\n",
    "    schema_registry_client=SchemaRegistryClient({\n",
    "        'url':'xxxx',\n",
    "        'basic.auth.user.info':'{}:{}'.format('xxxx', 'xxxx')\n",
    "        })\n",
    "\n",
    "    subject_name='logistics_data-value'\n",
    "    schema_str=schema_registry_client.get_latest_version(subject_name).schema.schema_str\n",
    "\n",
    "    key_deserialize=StringDeserializer('UTF-8')\n",
    "    avro_deserializer=AvroDeserializer(schema_registry_client,schema_str)\n",
    "\n",
    "    consumer=DeserializingConsumer({\n",
    "        'bootstrap.servers':kafka_config['bootstrap.servers'],\n",
    "        'security.protocol':kafka_config['security.protocol'],\n",
    "        'sasl.mechanisms':kafka_config['sasl.mechanisms'],\n",
    "        'sasl.username':kafka_config['sasl.username'],\n",
    "        'sasl.password':kafka_config['sasl.password'],\n",
    "        'group.id':'tst10',\n",
    "        'auto.offset.reset':kafka_config['auto.offset.reset'],\n",
    "        'key.deserializer':key_deserialize,\n",
    "        'value.deserializer':avro_deserializer\n",
    "    })\n",
    "\n",
    "    consumer.subscribe(['logistics_data'])\n",
    "\n",
    "    try:\n",
    "        while True:\n",
    "            msg=consumer.poll(1.0)\n",
    "            if msg is None:\n",
    "                continue\n",
    "            elif msg.error():\n",
    "                print('failed with error :{}'.format(msg.error()))\n",
    "            data=msg.value()\n",
    "            print(\"Consumer record with key : {} and value : {}\".format(msg.key(),msg.value()))\n",
    "            push_data_to_mongo(data)\n",
    "    except KeyboardInterrupt:\n",
    "        pass\n",
    "    finally:\n",
    "        consumer.close()\n",
    "    \n",
    "        "
   ]
  },
  {
   "cell_type": "markdown",
   "id": "ed82c9d1-4d90-4db0-b0d3-40357329306e",
   "metadata": {},
   "source": [
    "#### Function to read the data from the consumer and write data to mongoDB"
   ]
  },
  {
   "cell_type": "code",
   "execution_count": 4,
   "id": "ef994c59-8ae4-4ad4-bd14-62c2784ac6fd",
   "metadata": {},
   "outputs": [],
   "source": [
    "def push_data_to_mongo(data):\n",
    "    #Connect to mongo_db\n",
    "    url=\"xxxx\"\n",
    "    client=MongoClient(url)\n",
    "\n",
    "    db_names=client.list_database_names()\n",
    "    if 'logistics_mart' not in db_names:\n",
    "        my_db=client['logistics_mart']\n",
    "    my_db=client['logistics_mart']\n",
    "    if 'logistics_collection' not in my_db.list_collection_names():\n",
    "        my_collection=client['logistics_collection']\n",
    "    my_collection=my_db['logistics_collection']\n",
    "    \n",
    "    #insert the data into the logistics_mart.logistics_collection\n",
    "\n",
    "    insert_result=my_collection.insert_one(data)\n",
    "    print('document inserted with id :{}'.format(insert_result.inserted_id))\n",
    "    client.close()\n",
    "    \n",
    "\n"
   ]
  },
  {
   "cell_type": "markdown",
   "id": "d1e25ebc-e1ce-4f26-b8c0-4d1ee7a49adc",
   "metadata": {},
   "source": [
    "#### The main function call"
   ]
  },
  {
   "cell_type": "code",
   "execution_count": 5,
   "id": "f7b780d7-5c2b-4a31-b40b-fc59d1858611",
   "metadata": {},
   "outputs": [
    {
     "name": "stdout",
     "output_type": "stream",
     "text": [
      "Consumer record with key : 1 and value : {'GpsProvider': 'VAMOSYS', 'BookingID': 'VCV00014271/082021', 'Market_Regular': 'Regular', 'BookingID_Date': '8/27/2020', 'vehicle_no': 'TN30BC5917', 'Origin_Location': 'DAIMLER INDIA COMMERCIAL VEHICLES,KANCHIPURAM,TAMIL NADU', 'Destination_Location': 'DAIMLER INDIA COMMERCIAL VEHICLES,KANCHIPURAM,TAMIL NADU', 'Org_lat_lon': '12.8390,79.9540', 'Des_lat_lon': '12.8390,79.9540', 'Data_Ping_time': '40:28.0', 'Planned_ETA': '22:22.8', 'Current_Location': 'Unnamed Road, Oragadam Industrial Corridor, Vattambakkam R.F., Tamil Nadu 631605, India', 'DestinationLocation': 'DAIMLER INDIA COMMERCIAL VEHICLES,KANCHIPURAM,TAMIL NADU', 'actual_eta': '8/28/2020 12:46', 'Curr_lat': 12.83675683, 'Curr_lon': 79.95442767, 'ontime': 'G', 'delay': nan, 'OriginLocation_Code': 'CHEORADMRCCB1', 'DestinationLocation_Code': 'CHEMATDMROPA7', 'trip_start_date': '8/27/2020 16:21', 'trip_end_date': nan, 'TRANSPORTATION_DISTANCE_IN_KM': 103.0, 'vehicleType': nan, 'Minimum_kms_to_be_covered_in_a_day': nan, 'Driver_Name': 'RAMESH', 'Driver_MobileNo': nan, 'customerID': 'DMREXCHEUX', 'customerNameCode': 'Daimler india commercial vehicles pvt lt', 'supplierID': 'VJLEXSHE09', 'supplierNameCode': 'VJ LOGISTICS', 'Material_Shipped': 'ZB MODEL PLATE / 3143'}\n",
      "document inserted with id :66af45837b39dcd34f2aa6ea\n",
      "Consumer record with key : 2 and value : {'GpsProvider': 'CONSENT TRACK', 'BookingID': 'VCV00014382/082021', 'Market_Regular': 'Regular', 'BookingID_Date': '8/27/2020', 'vehicle_no': 'TN22AR2748', 'Origin_Location': 'LUCAS TVS LTD-PONDY,PONDY,PONDICHERRY', 'Destination_Location': 'LUCAS TVS LTD-PONDY,PONDY,PONDICHERRY', 'Org_lat_lon': '11.8710,79.7390', 'Des_lat_lon': '11.8710,79.7390', 'Data_Ping_time': '05:09.0', 'Planned_ETA': '59:24.9', 'Current_Location': '570, National Hwy 48, Shenoy Nagar, Chennai, Tamil Nadu 600030, India', 'DestinationLocation': 'LUCAS TVS LTD-PONDY,PONDY,PONDICHERRY', 'actual_eta': '8/28/2020 16:03', 'Curr_lat': 13.0739565, 'Curr_lon': 80.22578, 'ontime': 'G', 'delay': nan, 'OriginLocation_Code': 'CHEPONLUTCCA4', 'DestinationLocation_Code': 'CHEPONLUTCCA4', 'trip_start_date': '8/27/2020 17:57', 'trip_end_date': nan, 'TRANSPORTATION_DISTANCE_IN_KM': 300.0, 'vehicleType': nan, 'Minimum_kms_to_be_covered_in_a_day': nan, 'Driver_Name': 'GIRI', 'Driver_MobileNo': nan, 'customerID': 'LUTGCCHE06', 'customerNameCode': 'Lucas tvs ltd', 'supplierID': 'GSTEXLAK1Q', 'supplierNameCode': 'G.S. TRANSPORT', 'Material_Shipped': 'LETTERING / FUSO'}\n",
      "document inserted with id :66af45837b39dcd34f2aa6ec\n",
      "Consumer record with key : 3 and value : {'GpsProvider': 'VAMOSYS', 'BookingID': 'VCV00014743/082021', 'Market_Regular': 'Regular', 'BookingID_Date': '8/28/2020', 'vehicle_no': 'TN28AQ0781', 'Origin_Location': 'DAIMLER INDIA COMMERCIAL VEHICLES,KANCHIPURAM,TAMIL NADU', 'Destination_Location': 'DAIMLER INDIA COMMERCIAL VEHICLES,KANCHIPURAM,TAMIL NADU', 'Org_lat_lon': '12.8390,79.9540', 'Des_lat_lon': '12.8390,79.9540', 'Data_Ping_time': '40:31.0', 'Planned_ETA': '48:24.5', 'Current_Location': 'Singaperumal Koil - Sriperumbudur Rd, Oragadam Industrial Corridor, Vattambakkam R.F., Tamil Nadu 631605, India', 'DestinationLocation': 'DAIMLER INDIA COMMERCIAL VEHICLES,KANCHIPURAM,TAMIL NADU', 'actual_eta': '8/28/2020 12:50', 'Curr_lat': 12.83668556, 'Curr_lon': 79.95056, 'ontime': 'G', 'delay': nan, 'OriginLocation_Code': 'CHEORADMRCCB1', 'DestinationLocation_Code': 'CHEMATDMROPA7', 'trip_start_date': '8/28/2020 0:47', 'trip_end_date': nan, 'TRANSPORTATION_DISTANCE_IN_KM': 61.0, 'vehicleType': nan, 'Minimum_kms_to_be_covered_in_a_day': nan, 'Driver_Name': 'RAVI', 'Driver_MobileNo': nan, 'customerID': 'DMREXCHEUX', 'customerNameCode': 'Daimler india commercial vehicles pvt lt', 'supplierID': 'ARVEXNAM09', 'supplierNameCode': 'ARVINTH TRANSPORT', 'Material_Shipped': 'LU STRUT RA / RADIUS ROD'}\n",
      "document inserted with id :66af45847b39dcd34f2aa6ee\n",
      "Consumer record with key : 0 and value : {'GpsProvider': 'CONSENT TRACK', 'BookingID': 'MVCV0000927/082021', 'Market_Regular': 'Market', 'BookingID_Date': '8/17/2020', 'vehicle_no': 'KA590408', 'Origin_Location': 'TVSLSL-PUZHAL-HUB,CHENNAI,TAMIL NADU', 'Destination_Location': 'ASHOK LEYLAND PLANT 1- HOSUR,HOSUR,KARNATAKA', 'Org_lat_lon': '13.1550,80.1960', 'Des_lat_lon': '12.7400,77.8200', 'Data_Ping_time': '05:09.0', 'Planned_ETA': '59:01.0', 'Current_Location': 'Vaniyambadi Rd, Valayambattu, Tamil Nadu 635752, India', 'DestinationLocation': 'ASHOK LEYLAND PLANT 1- HOSUR,HOSUR,KARNATAKA', 'actual_eta': '8/28/2020 14:38', 'Curr_lat': 12.6635, 'Curr_lon': 78.64987, 'ontime': nan, 'delay': 'R', 'OriginLocation_Code': 'CHEPUZTVSHUA1', 'DestinationLocation_Code': 'HOSHOSALLCCA2', 'trip_start_date': '8/17/2020 14:59', 'trip_end_date': nan, 'TRANSPORTATION_DISTANCE_IN_KM': 320.0, 'vehicleType': nan, 'Minimum_kms_to_be_covered_in_a_day': nan, 'Driver_Name': nan, 'Driver_MobileNo': nan, 'customerID': 'ALLEXCHE45', 'customerNameCode': 'Ashok leyland limited', 'supplierID': 'VIJEXHOSR7', 'supplierNameCode': 'VIJAY TRANSPORT', 'Material_Shipped': 'BRACKET / GRAB HANDLE'}\n",
      "document inserted with id :66af45857b39dcd34f2aa6f0\n",
      "Consumer record with key : 1 and value : {'GpsProvider': 'VAMOSYS', 'BookingID': 'VCV00014271/082021', 'Market_Regular': 'Regular', 'BookingID_Date': '8/27/2020', 'vehicle_no': 'TN30BC5917', 'Origin_Location': 'DAIMLER INDIA COMMERCIAL VEHICLES,KANCHIPURAM,TAMIL NADU', 'Destination_Location': 'DAIMLER INDIA COMMERCIAL VEHICLES,KANCHIPURAM,TAMIL NADU', 'Org_lat_lon': '12.8390,79.9540', 'Des_lat_lon': '12.8390,79.9540', 'Data_Ping_time': '40:28.0', 'Planned_ETA': '22:22.8', 'Current_Location': 'Unnamed Road, Oragadam Industrial Corridor, Vattambakkam R.F., Tamil Nadu 631605, India', 'DestinationLocation': 'DAIMLER INDIA COMMERCIAL VEHICLES,KANCHIPURAM,TAMIL NADU', 'actual_eta': '8/28/2020 12:46', 'Curr_lat': 12.83675683, 'Curr_lon': 79.95442767, 'ontime': 'G', 'delay': nan, 'OriginLocation_Code': 'CHEORADMRCCB1', 'DestinationLocation_Code': 'CHEMATDMROPA7', 'trip_start_date': '8/27/2020 16:21', 'trip_end_date': nan, 'TRANSPORTATION_DISTANCE_IN_KM': 103.0, 'vehicleType': nan, 'Minimum_kms_to_be_covered_in_a_day': nan, 'Driver_Name': 'RAMESH', 'Driver_MobileNo': nan, 'customerID': 'DMREXCHEUX', 'customerNameCode': 'Daimler india commercial vehicles pvt lt', 'supplierID': 'VJLEXSHE09', 'supplierNameCode': 'VJ LOGISTICS', 'Material_Shipped': 'ZB MODEL PLATE / 3143'}\n",
      "document inserted with id :66af45857b39dcd34f2aa6f2\n",
      "Consumer record with key : 2 and value : {'GpsProvider': 'CONSENT TRACK', 'BookingID': 'VCV00014382/082021', 'Market_Regular': 'Regular', 'BookingID_Date': '8/27/2020', 'vehicle_no': 'TN22AR2748', 'Origin_Location': 'LUCAS TVS LTD-PONDY,PONDY,PONDICHERRY', 'Destination_Location': 'LUCAS TVS LTD-PONDY,PONDY,PONDICHERRY', 'Org_lat_lon': '11.8710,79.7390', 'Des_lat_lon': '11.8710,79.7390', 'Data_Ping_time': '05:09.0', 'Planned_ETA': '59:24.9', 'Current_Location': '570, National Hwy 48, Shenoy Nagar, Chennai, Tamil Nadu 600030, India', 'DestinationLocation': 'LUCAS TVS LTD-PONDY,PONDY,PONDICHERRY', 'actual_eta': '8/28/2020 16:03', 'Curr_lat': 13.0739565, 'Curr_lon': 80.22578, 'ontime': 'G', 'delay': nan, 'OriginLocation_Code': 'CHEPONLUTCCA4', 'DestinationLocation_Code': 'CHEPONLUTCCA4', 'trip_start_date': '8/27/2020 17:57', 'trip_end_date': nan, 'TRANSPORTATION_DISTANCE_IN_KM': 300.0, 'vehicleType': nan, 'Minimum_kms_to_be_covered_in_a_day': nan, 'Driver_Name': 'GIRI', 'Driver_MobileNo': nan, 'customerID': 'LUTGCCHE06', 'customerNameCode': 'Lucas tvs ltd', 'supplierID': 'GSTEXLAK1Q', 'supplierNameCode': 'G.S. TRANSPORT', 'Material_Shipped': 'LETTERING / FUSO'}\n",
      "document inserted with id :66af45867b39dcd34f2aa6f4\n",
      "Consumer record with key : 3 and value : {'GpsProvider': 'VAMOSYS', 'BookingID': 'VCV00014743/082021', 'Market_Regular': 'Regular', 'BookingID_Date': '8/28/2020', 'vehicle_no': 'TN28AQ0781', 'Origin_Location': 'DAIMLER INDIA COMMERCIAL VEHICLES,KANCHIPURAM,TAMIL NADU', 'Destination_Location': 'DAIMLER INDIA COMMERCIAL VEHICLES,KANCHIPURAM,TAMIL NADU', 'Org_lat_lon': '12.8390,79.9540', 'Des_lat_lon': '12.8390,79.9540', 'Data_Ping_time': '40:31.0', 'Planned_ETA': '48:24.5', 'Current_Location': 'Singaperumal Koil - Sriperumbudur Rd, Oragadam Industrial Corridor, Vattambakkam R.F., Tamil Nadu 631605, India', 'DestinationLocation': 'DAIMLER INDIA COMMERCIAL VEHICLES,KANCHIPURAM,TAMIL NADU', 'actual_eta': '8/28/2020 12:50', 'Curr_lat': 12.83668556, 'Curr_lon': 79.95056, 'ontime': 'G', 'delay': nan, 'OriginLocation_Code': 'CHEORADMRCCB1', 'DestinationLocation_Code': 'CHEMATDMROPA7', 'trip_start_date': '8/28/2020 0:47', 'trip_end_date': nan, 'TRANSPORTATION_DISTANCE_IN_KM': 61.0, 'vehicleType': nan, 'Minimum_kms_to_be_covered_in_a_day': nan, 'Driver_Name': 'RAVI', 'Driver_MobileNo': nan, 'customerID': 'DMREXCHEUX', 'customerNameCode': 'Daimler india commercial vehicles pvt lt', 'supplierID': 'ARVEXNAM09', 'supplierNameCode': 'ARVINTH TRANSPORT', 'Material_Shipped': 'LU STRUT RA / RADIUS ROD'}\n",
      "document inserted with id :66af45867b39dcd34f2aa6f6\n",
      "Consumer record with key : 4 and value : {'GpsProvider': 'VAMOSYS', 'BookingID': 'VCV00014744/082021', 'Market_Regular': 'Regular', 'BookingID_Date': '8/28/2020', 'vehicle_no': 'TN68F1722', 'Origin_Location': 'LUCAS TVS LTD-PONDY,PONDY,PONDICHERRY', 'Destination_Location': 'LUCAS TVS LTD-PONDY,PONDY,PONDICHERRY', 'Org_lat_lon': '11.8720,79.6320', 'Des_lat_lon': '11.8720,79.6320', 'Data_Ping_time': '40:29.0', 'Planned_ETA': '23:19.2', 'Current_Location': 'Melmaruvathur, Tamil Nadu 603319, India', 'DestinationLocation': 'LUCAS TVS LTD-PONDY,PONDY,PONDICHERRY', 'actual_eta': '8/28/2020 14:22', 'Curr_lat': 12.42950111, 'Curr_lon': 79.83155556, 'ontime': 'G', 'delay': nan, 'OriginLocation_Code': 'CHENETLUTCCA1', 'DestinationLocation_Code': 'CHENETLUTCCA1', 'trip_start_date': '8/28/2020 1:13', 'trip_end_date': nan, 'TRANSPORTATION_DISTANCE_IN_KM': 240.0, 'vehicleType': nan, 'Minimum_kms_to_be_covered_in_a_day': nan, 'Driver_Name': 'TAMIL', 'Driver_MobileNo': nan, 'customerID': 'LUTGCCHE06', 'customerNameCode': 'Lucas tvs ltd', 'supplierID': 'SRTEXKOR96', 'supplierNameCode': 'SR TRANSPORTS', 'Material_Shipped': 'WISHBONE / V ROD/HDT'}\n",
      "document inserted with id :66af45877b39dcd34f2aa6f8\n",
      "Consumer record with key : 4 and value : {'GpsProvider': 'VAMOSYS', 'BookingID': 'VCV00014744/082021', 'Market_Regular': 'Regular', 'BookingID_Date': '8/28/2020', 'vehicle_no': 'TN68F1722', 'Origin_Location': 'LUCAS TVS LTD-PONDY,PONDY,PONDICHERRY', 'Destination_Location': 'LUCAS TVS LTD-PONDY,PONDY,PONDICHERRY', 'Org_lat_lon': '11.8720,79.6320', 'Des_lat_lon': '11.8720,79.6320', 'Data_Ping_time': '40:29.0', 'Planned_ETA': '23:19.2', 'Current_Location': 'Melmaruvathur, Tamil Nadu 603319, India', 'DestinationLocation': 'LUCAS TVS LTD-PONDY,PONDY,PONDICHERRY', 'actual_eta': '8/28/2020 14:22', 'Curr_lat': 12.42950111, 'Curr_lon': 79.83155556, 'ontime': 'G', 'delay': nan, 'OriginLocation_Code': 'CHENETLUTCCA1', 'DestinationLocation_Code': 'CHENETLUTCCA1', 'trip_start_date': '8/28/2020 1:13', 'trip_end_date': nan, 'TRANSPORTATION_DISTANCE_IN_KM': 240.0, 'vehicleType': nan, 'Minimum_kms_to_be_covered_in_a_day': nan, 'Driver_Name': 'TAMIL', 'Driver_MobileNo': nan, 'customerID': 'LUTGCCHE06', 'customerNameCode': 'Lucas tvs ltd', 'supplierID': 'SRTEXKOR96', 'supplierNameCode': 'SR TRANSPORTS', 'Material_Shipped': 'WISHBONE / V ROD/HDT'}\n",
      "document inserted with id :66af45877b39dcd34f2aa6fa\n"
     ]
    }
   ],
   "source": [
    "if __name__=='__main__':\n",
    "    main()"
   ]
  },
  {
   "cell_type": "code",
   "execution_count": null,
   "id": "08b75d9b-c6a8-4e63-a4e7-d43d5001b470",
   "metadata": {},
   "outputs": [],
   "source": []
  },
  {
   "cell_type": "code",
   "execution_count": null,
   "id": "4c9b5e82-7143-4344-8763-5f736d85b321",
   "metadata": {},
   "outputs": [],
   "source": []
  }
 ],
 "metadata": {
  "kernelspec": {
   "display_name": "Python 3 (ipykernel)",
   "language": "python",
   "name": "python3"
  },
  "language_info": {
   "codemirror_mode": {
    "name": "ipython",
    "version": 3
   },
   "file_extension": ".py",
   "mimetype": "text/x-python",
   "name": "python",
   "nbconvert_exporter": "python",
   "pygments_lexer": "ipython3",
   "version": "3.9.13"
  }
 },
 "nbformat": 4,
 "nbformat_minor": 5
}
